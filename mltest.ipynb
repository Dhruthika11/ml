{
 "cells": [
  {
   "cell_type": "code",
   "execution_count": 27,
   "id": "34d877ae-3502-4495-80ed-ba1da2a79fc5",
   "metadata": {},
   "outputs": [],
   "source": [
    "import time\n",
    "import numpy as np\n",
    "import pandas as pd\n",
    "import matplotlib.pyplot as plt\n",
    "%matplotlib inline"
   ]
  },
  {
   "cell_type": "markdown",
   "id": "f43587f8-2380-4345-a5be-ec66abb737a2",
   "metadata": {},
   "source": [
    "### How many multiplications and additions do you need to perform a matrix multiplication between a (n, k) and (k, m) matrix? Explain."
   ]
  },
  {
   "cell_type": "markdown",
   "id": "5e784db8-cc9f-4a08-836f-0f5360a99523",
   "metadata": {},
   "source": [
    "\n",
    "Let A be a matrix of dimensions (n,k) and B be a matrix with dimensions (k,m). The matrix multiplication of A and B is C with dimensions (n,m).\n",
    "\n",
    "An element $C_{ij}$ of C is the sum of the products of each element of the ith row of A with and the corresponding element on the jth column of B.\n",
    "\n",
    "For an element $C_{ij}$ , k multiplications are made one for each element of the ith row of A and corressponding element of column j of B.\n",
    "\n",
    "There are n$\\times$m elements in total in the matrix C. So total number of multiplications made is equal to k$\\times$n$\\times$m.\n",
    "\n",
    "For an element $C_{ij}$, (k-1) additions are made. This is because there are k multiplications and to combine them (k-1) additions are made.\n",
    "\n",
    "There are n$\\times$m elements in total in the matrix C. So total number of additions made is equal to (k-1)$\\times$n$\\times$m."
   ]
  },
  {
   "cell_type": "markdown",
   "id": "0b6396f4-7855-435a-9053-0c2d40da639d",
   "metadata": {},
   "source": [
    "### Write Python code to multiply the above two matrices. Solve using list of lists and then use numpy. Compare the timing of both solutions. Which one is faster? Why?"
   ]
  },
  {
   "cell_type": "code",
   "execution_count": 4,
   "id": "70028a3d-439c-497a-973a-fb9adea176bc",
   "metadata": {},
   "outputs": [
    {
     "name": "stdout",
     "output_type": "stream",
     "text": [
      "Time taken for list-based multiplication: 0.5622137999162078\n",
      "Time taken for numpy multiplication: 0.04787829995620996\n"
     ]
    }
   ],
   "source": [
    "A= [[8, 12, 9, 5, 1],\n",
    "    [4, 27, 3, 16, 2],\n",
    "    [1, 35, 8, 3, 9],\n",
    "    [6, 22, 4, 7, 5],\n",
    "    [3, 19, 1, 2, 8],\n",
    "    [7, 14, 5, 9, 3],\n",
    "    [2, 11, 3, 1, 4]]\n",
    "\n",
    "B= [[15, 3, 8, 21, 4, 7, 12, 1, 6],\n",
    "    [9, 14, 2, 5, 19, 11, 8, 10, 17],\n",
    "    [20, 3, 6, 13, 24, 2, 9, 15, 18],\n",
    "    [7, 22, 5, 12, 1, 16, 14, 4, 3],\n",
    "    [11, 8, 19, 2, 13, 25, 6, 10, 17]]\n",
    "\n",
    "\n",
    "#by list of lists\n",
    "def bylist(A,B):\n",
    "    n=len(A)\n",
    "    k=len(A[0])\n",
    "    m=len(B)\n",
    "    C= [[0 for i in range(m)] for j in range(n)]\n",
    "    for i in range(n):\n",
    "        for j in range(m):\n",
    "            for b in range(k):\n",
    "                C[i][j] += A[i][b] * B[b][j]\n",
    "    return C\n",
    "\n",
    "start1 = time.perf_counter()\n",
    "for i in range(10000):  \n",
    "    result1 = bylist(A, B)\n",
    "final1 = time.perf_counter() - start1\n",
    "\n",
    "print(\"Time taken for list-based multiplication:\", final1)\n",
    "\n",
    "#by numpy matrix multiplication\n",
    "A_np = np.array(A)\n",
    "B_np = np.array(B)\n",
    "\n",
    "start2 = time.perf_counter()\n",
    "for i in range(10000): \n",
    "    result2 = np.dot(A_np, B_np)\n",
    "final2 = time.perf_counter() - start2\n",
    "\n",
    "print(\"Time taken for numpy multiplication:\", final2)"
   ]
  },
  {
   "cell_type": "markdown",
   "id": "5fbf4233-43b0-48e4-95ad-af4abea51648",
   "metadata": {},
   "source": [
    "Matrix multiplication with numpy is faster than using list of lists. This is because\n",
    "\n",
    "1. Numpy uses highly optimized libraries (implementations in C) like BLAS (Basic Linear Algebra Subprograms) and LAPACK. These libraries uses multithreading and SIMD (Single Instruction, Multiple Data) instructions (which are low level optimizations) to speed up the matrix computations compared to python's list of lists.\n",
    "\n",
    "2. In numpy operations are vectorized. Operations are made on the entire array at once whereas in python operations are made by element by element. This avoids looping and hence it is faster.\n",
    "\n",
    "3. In numpy arrays are stored in a contiguous block manner which makes it easy to\n",
    "access whereas in python data is stored in fragmented manner and is slower to access.\n",
    "\n",
    "4. In python list of lists each element is a separate object whereas in numpy, arrays are homogeneously typed  and allows faster computations."
   ]
  },
  {
   "cell_type": "markdown",
   "id": "53f8bcfc-559b-4500-b769-bb4c1f8bd0b1",
   "metadata": {},
   "source": [
    "### Finding the highest element in a list requires one pass of the array. Finding the second highest element requires 2 passes of the the array. Using this method, what is the time complexity of finding the median of the array? Can you suggest a better method? Can you implement both these methods in Python and compare against numpy.median routine in terms of time?\n"
   ]
  },
  {
   "cell_type": "markdown",
   "id": "6002d500-477e-45c1-af05-0eb9cfd07513",
   "metadata": {},
   "source": [
    "The time complexity in the above method where we repeatedly find the highest number:\n",
    "\n",
    "For finding the first highest element in the array, we need to pass through the array which has time complexity O(n). For second highest, we need to pass through the array again whose time complexity is also O(n).\n",
    "\n",
    "To find the median in the worst case scenario, we need to extract half of the elements.\n",
    "\n",
    "To find the kth highest element by removing the maximum element in each of k iterations require O(n) in each iteration. So the total time complexity is O(kn).\n",
    "\n",
    "In the worst case to find the median, k=n/2. Therefore, total time complexity is O(n$\\times$(n/2)) which is O(n2).\n",
    "\n",
    "A better method for finding the median is the Quickselect algorithm, which has an average time complexity of O(n). \n",
    "It works by selecting a \"pivot\" element from the array and them partitioning the elements around it on whether it is greater than or less than pivot. On average, this partitioning step divides the array into two roughly equal halves, and each recursive step works with about half of the remaining elements. And each partitioning takes O(n) time nd there are O(logn) levels on average, the overall average time complexity is linear, \n",
    "and is O(logn)O(n) which  simplifies to O(n).\n"
   ]
  },
  {
   "cell_type": "code",
   "execution_count": 32,
   "id": "20544114-3aa5-48df-bc08-bcb3278ae926",
   "metadata": {},
   "outputs": [
    {
     "name": "stdout",
     "output_type": "stream",
     "text": [
      "4938.0\n",
      "Time taken by iterating method: 5.968103408813477\n",
      "4938.0\n",
      "Time taken by quickselect method: 0.04572010040283203\n",
      "4938.0\n",
      "Time taken by numpy method: 0.006117105484008789\n"
     ]
    }
   ],
   "source": [
    "\n",
    "arr1 = np.random.randint(0, 10000, 10000)\n",
    "\n",
    "#Using iteration method\n",
    "def method1(arr):\n",
    "    def kth_highest(arr, k):\n",
    "        arr_copy = arr.copy()  \n",
    "        for _ in range(k):\n",
    "            max_i = 0\n",
    "            maximum = arr_copy[0]\n",
    "            for i in range(1, len(arr_copy)):\n",
    "                if arr_copy[i] > maximum:\n",
    "                    max_i = i\n",
    "                    maximum = arr_copy[i]\n",
    "            arr_copy[max_i], arr_copy[-1] = arr_copy[-1], arr_copy[max_i]\n",
    "            kth_high = arr_copy.pop()\n",
    "        return kth_high\n",
    "\n",
    "    n = len(arr)\n",
    "    if n % 2 == 1:  \n",
    "        k = n // 2 + 1\n",
    "        result = kth_highest(arr, k)\n",
    "        return result\n",
    "    else:  \n",
    "        mid1 = kth_highest(arr, n // 2)\n",
    "        mid2 = kth_highest(arr, n // 2 + 1)\n",
    "        result = (mid1 + mid2) / 2\n",
    "        return result\n",
    "\n",
    "start1 = time.time()\n",
    "result1 = method1(list(arr1))\n",
    "final1 = time.time() - start1\n",
    "print(result1)\n",
    "print(\"Time taken by iterating method:\", final1)\n",
    "\n",
    "\n",
    "\n",
    "# using quickselect\n",
    "def method2(arr):\n",
    "    def quickselect(l, r, k):\n",
    "        pivot, p = arr[r], l\n",
    "        for i in range(l, r):\n",
    "            if arr[i] <= pivot:\n",
    "                arr[p], arr[i] = arr[i], arr[p]\n",
    "                p += 1\n",
    "        arr[p], arr[r] = arr[r], arr[p]\n",
    "        \n",
    "        if p > k:\n",
    "            return quickselect(l, p - 1, k)\n",
    "        elif p < k:\n",
    "            return quickselect(p + 1, r, k)\n",
    "        else:\n",
    "            return arr[p]\n",
    "    \n",
    "    n = len(arr)\n",
    "    if n % 2 == 1:  \n",
    "        k = n // 2\n",
    "        result = quickselect(0, n - 1, k)\n",
    "        return result\n",
    "    else:  \n",
    "        mid1 = quickselect(0, n - 1, n // 2 - 1)\n",
    "        mid2 = quickselect(0, n - 1, n // 2)\n",
    "        result = (mid1 + mid2) / 2\n",
    "        return result  \n",
    "\n",
    "# Example array\n",
    "\n",
    "start2 = time.time()\n",
    "result2 = method2(list(arr1))\n",
    "final2 = time.time() - start2\n",
    "print(result2)\n",
    "print(\"Time taken by quickselect method:\", final2)\n",
    "\n",
    "  \n",
    "#Using numpy\n",
    "start3 = time.time()\n",
    "result3 = np.median(arr1)\n",
    "final3 = time.time() - start3\n",
    "print(result3)\n",
    "print(\"Time taken by numpy method:\", final3)\n",
    "\n",
    " "
   ]
  },
  {
   "cell_type": "markdown",
   "id": "4ae41cc1-264d-4391-afaa-b4d313ac7b09",
   "metadata": {},
   "source": [
    "### What is the gradient of the following function with respect to x and y?\n"
   ]
  },
  {
   "cell_type": "markdown",
   "id": "2d2bc719-d777-4391-9570-e44117156b74",
   "metadata": {},
   "source": [
    "The gradient of a function in x, y is the vector of its partial derivatives with respect to x and y.\n",
    "\n",
    "f = ($x^{2}$)y + ($y^{3}$)sin(x)\n",
    "\n",
    "f'(x) = 2xy + ($y^{3}$)cos(x)\n",
    "\n",
    "f'(y) = $x^{2}$ + 3($y^{2}$)sin(x)\n",
    "\n",
    "gradient = (f'(x), f'(y)) = (2xy + ($y^{3}$)cos(x), $x^{2}$ + 3($y^{2}$)sin(x))"
   ]
  },
  {
   "cell_type": "markdown",
   "id": "dac417ee-7813-4fe4-aef6-45eea4620cb1",
   "metadata": {},
   "source": [
    "### Use JAX to confirm the gradient evaluated by your method matches the analytical solution corresponding to a few random values of x and y"
   ]
  },
  {
   "cell_type": "code",
   "execution_count": 8,
   "id": "4881e957-68fa-4e10-b0ec-1e028f846dde",
   "metadata": {},
   "outputs": [
    {
     "name": "stdout",
     "output_type": "stream",
     "text": [
      "x: 1.5, y: 2.7\n",
      "JAX Gradient: (Array(9.492321, dtype=float32, weak_type=True), Array(24.065216, dtype=float32, weak_type=True))\n",
      "Analytical Gradient: (Array(9.492321, dtype=float32, weak_type=True), Array(24.065216, dtype=float32, weak_type=True))\n",
      "Difference: (0.0, 0.0)\n",
      "\n",
      "x: 0.8, y: 0.6\n",
      "JAX Gradient: (Array(1.1104887, dtype=float32, weak_type=True), Array(1.4147446, dtype=float32, weak_type=True))\n",
      "Analytical Gradient: (Array(1.1104887, dtype=float32, weak_type=True), Array(1.4147446, dtype=float32, weak_type=True))\n",
      "Difference: (0.0, 0.0)\n",
      "\n",
      "x: -1.0, y: 4.0\n",
      "JAX Gradient: (Array(26.579346, dtype=float32, weak_type=True), Array(-39.390606, dtype=float32, weak_type=True))\n",
      "Analytical Gradient: (Array(26.579346, dtype=float32, weak_type=True), Array(-39.390606, dtype=float32, weak_type=True))\n",
      "Difference: (0.0, 0.0)\n",
      "\n",
      "x: 0.0, y: 0.5\n",
      "JAX Gradient: (Array(0.125, dtype=float32, weak_type=True), Array(0., dtype=float32, weak_type=True))\n",
      "Analytical Gradient: (Array(0.125, dtype=float32, weak_type=True), Array(0., dtype=float32, weak_type=True))\n",
      "Difference: (0.0, 0.0)\n",
      "\n",
      "x: 9.5, y: -4.5\n",
      "JAX Gradient: (Array(5.367317, dtype=float32, weak_type=True), Array(85.68457, dtype=float32, weak_type=True))\n",
      "Analytical Gradient: (Array(5.367317, dtype=float32, weak_type=True), Array(85.68457, dtype=float32, weak_type=True))\n",
      "Difference: (0.0, 0.0)\n",
      "\n"
     ]
    }
   ],
   "source": [
    "import jax\n",
    "import jax.numpy as jnp\n",
    "def f(x, y):\n",
    "    return x**2 * y + y**3 * jnp.sin(x)\n",
    "\n",
    "#by JAX\n",
    "gradient_f = jax.grad(f, (0, 1))\n",
    "\n",
    "#by analytical method\n",
    "def anal_grad(x,y):\n",
    "    gradient_x = 2*x*y + y**3 * jnp.cos(x)\n",
    "    gradient_y = x**2 + 3*y**2 * jnp.sin(x)\n",
    "    return gradient_x, gradient_y\n",
    "\n",
    "xy_values = [\n",
    "    (1.5, 2.7),\n",
    "    (0.8, 0.6),\n",
    "    (-1.0, 4.0),\n",
    "    (0.0, 0.5),\n",
    "    (9.5, -4.5)\n",
    "]\n",
    "\n",
    "for x,y in xy_values:\n",
    "    grad_jax = gradient_f(x,y)\n",
    "    grad_anal = anal_grad(x,y)\n",
    "\n",
    "    print(f\"x: {x}, y: {y}\")\n",
    "    print(f\"JAX Gradient: {grad_jax}\")\n",
    "    print(f\"Analytical Gradient: {grad_anal}\")\n",
    "    print(f\"Difference: ({grad_jax[0] - grad_anal[0]}, {grad_jax[1] - grad_anal[1]})\\n\")\n",
    "\n"
   ]
  },
  {
   "cell_type": "markdown",
   "id": "60210851-078e-4b3c-81a3-5f70d26d84f7",
   "metadata": {},
   "source": [
    "### Use sympy to confirm that you obtain the same gradient analytically."
   ]
  },
  {
   "cell_type": "code",
   "execution_count": 9,
   "id": "4f408c07-beee-4f77-a3f0-48e67da6611b",
   "metadata": {},
   "outputs": [
    {
     "name": "stdout",
     "output_type": "stream",
     "text": [
      "x: 1.5, y: 2.7\n",
      "Analytical Gradient: (np.float64(9.492320340425398), np.float64(24.065215357030674))\n",
      "SymPy Gradient: (9.49232034042540, 24.0652153570307)\n",
      "\n",
      "\n",
      "x: 0.8, y: 0.6\n",
      "Analytical Gradient: (np.float64(1.1104886492189876), np.float64(1.4147445781714847))\n",
      "SymPy Gradient: (1.11048864921899, 1.41474457817148)\n",
      "\n",
      "\n",
      "x: -1.0, y: 4.0\n",
      "Analytical Gradient: (np.float64(26.579347575560945), np.float64(-39.39060727077903))\n",
      "SymPy Gradient: (26.5793475755609, -39.3906072707790)\n",
      "\n",
      "\n",
      "x: 0.0, y: 0.5\n",
      "Analytical Gradient: (np.float64(0.125), np.float64(0.0))\n",
      "SymPy Gradient: (0.125000000000000, 0)\n",
      "\n",
      "\n",
      "x: 9.5, y: -4.5\n",
      "Analytical Gradient: (np.float64(5.367312733394982), np.float64(85.68456943194508))\n",
      "SymPy Gradient: (5.36731273339499, 85.6845694319451)\n",
      "\n",
      "\n"
     ]
    }
   ],
   "source": [
    "import sympy as sp\n",
    "import numpy as np\n",
    "\n",
    "# Define symbolic variables\n",
    "x_sym, y_sym = sp.symbols('x y')\n",
    "\n",
    "# Define the function\n",
    "func = x_sym**2 * y_sym + y_sym**3 * sp.sin(x_sym)\n",
    "\n",
    "# Calculate the symbolic gradients\n",
    "grad_x_sym = sp.diff(func, x_sym)\n",
    "grad_y_sym = sp.diff(func, y_sym)\n",
    "\n",
    "# Define the analytical gradient function\n",
    "def anal_grad(x_val, y_val):\n",
    "    gradient_x = 2 * x_val * y_val + y_val**3 * np.cos(x_val)\n",
    "    gradient_y = x_val**2 + 3 * y_val**2 * np.sin(x_val)\n",
    "    return gradient_x, gradient_y\n",
    "\n",
    "# List of (x, y) values to evaluate\n",
    "xy_values = [\n",
    "    (1.5, 2.7),\n",
    "    (0.8, 0.6),\n",
    "    (-1.0, 4.0),\n",
    "    (0.0, 0.5),\n",
    "    (9.5, -4.5)\n",
    "]\n",
    "# Evaluate the gradients\n",
    "for x_val, y_val in xy_values:\n",
    "    # Analytical gradient\n",
    "    analytical_grad_val = anal_grad(x_val, y_val)\n",
    "    \n",
    "    # SymPy gradient\n",
    "    sp_grad_x = grad_x_sym.evalf(subs={x_sym: x_val, y_sym: y_val})\n",
    "    sp_grad_y = grad_y_sym.evalf(subs={x_sym: x_val, y_sym: y_val})\n",
    "    \n",
    "    # Print the results\n",
    "    print(f\"x: {x_val}, y: {y_val}\")\n",
    "    print(f\"Analytical Gradient: {analytical_grad_val}\")\n",
    "    print(f\"SymPy Gradient: ({sp_grad_x}, {sp_grad_y})\")\n",
    "    print(\"\\n\")"
   ]
  },
  {
   "cell_type": "markdown",
   "id": "df44af95-237e-4746-a484-64df8ef8dada",
   "metadata": {},
   "source": [
    "### Create a Python nested dictionary to represent hierarchical information. We want to store record of students and their marks. "
   ]
  },
  {
   "cell_type": "code",
   "execution_count": 10,
   "id": "de5c89ab-d7fb-49d9-bb70-ec5643f52d9d",
   "metadata": {},
   "outputs": [],
   "source": [
    "data = {\n",
    "    2022: {\n",
    "        'Branch 1': {\n",
    "            1: {'Name': 'Jeev', 'Marks': {'Maths': 90, 'English': 80}},\n",
    "            2: {'Name': 'Dave', 'Marks': {'Maths': 95, 'English': 85}}\n",
    "        }\n",
    "    },\n",
    "    2023: {\n",
    "        'Branch 1': {\n",
    "            1: {'Name': 'Priya', 'Marks': {'Maths': 88, 'English': 92}},\n",
    "            2: {'Name': 'Fanaa', 'Marks': {'Maths': 76, 'English': 84}}\n",
    "        },\n",
    "        'Branch 2': {\n",
    "            1: {'Name': 'Gina', 'Marks': {'Maths': 91, 'English': 87}},\n",
    "            2: {'Name': 'Hanna', 'Marks': {'Maths': 79, 'English': 85}}\n",
    "        }\n",
    "    },\n",
    "    2024: {\n",
    "        'Branch 1': {\n",
    "            1: {'Name': 'Indhu', 'Marks': {'Maths': 82, 'English': 88}},\n",
    "            2: {'Name': 'Janvi', 'Marks': {'Maths': 77, 'English': 81}}\n",
    "        },\n",
    "        'Branch 2': {\n",
    "            1: {'Name': 'Katherine', 'Marks': {'Maths': 94, 'English': 93}},\n",
    "            2: {'Name': 'Luv', 'Marks': {'Maths': 89, 'English': 90}}\n",
    "        }\n",
    "    },\n",
    "    2025: {\n",
    "        'Branch 1': {\n",
    "            1: {'Name': 'Mona', 'Marks': {'Maths': 87, 'English': 89}},\n",
    "            2: {'Name': 'Nikitha', 'Marks': {'Maths': 84, 'English': 86}}\n",
    "        },\n",
    "        'Branch 2': {\n",
    "            1: {'Name': 'Keerthi', 'Marks': {'Maths': 92, 'English': 91}},\n",
    "            2: {'Name': 'Praveen', 'Marks': {'Maths': 80, 'English': 83}}\n",
    "        }\n",
    "    }\n",
    "}\n"
   ]
  },
  {
   "cell_type": "markdown",
   "id": "205366cf-b01c-4f39-b1e1-c418f111c831",
   "metadata": {},
   "source": [
    "### Store the same information using Python classes. We have an overall database which is a list of year objects. Each year contains a list of branches. Each branch contains a list of students. Each student has some properties like name, roll number and has marks in some subjects."
   ]
  },
  {
   "cell_type": "code",
   "execution_count": 11,
   "id": "bd2cbb53-fd0a-40cf-b995-8eb8955c75ca",
   "metadata": {},
   "outputs": [
    {
     "name": "stdout",
     "output_type": "stream",
     "text": [
      "Year[2022, [[Branch 1, [[1, 'Jeev', {'Maths': 90, 'English': 80}], [2, 'Dave', {'Maths': 95, 'English': 85}]]], [Branch 2, [[3, 'Diya', {'Maths': 98, 'English': 88}], [4, 'Harshith', {'Maths': 72, 'English': 84}]]]]]\n",
      "\n",
      "\n",
      "Year[2023, [[Branch 1, [[5, 'Priya', {'Maths': 88, 'English': 92}], [6, 'Fanaa', {'Maths': 76, 'English': 84}]]], [Branch 2, [[7, 'Gina', {'Maths': 91, 'English': 87}], [8, 'Hanna', {'Maths': 79, 'English': 85}]]]]]\n",
      "\n",
      "\n",
      "Year[2024, [[Branch 1, [[9, 'Indhu', {'Maths': 82, 'English': 88}], [10, 'Janvi', {'Maths': 77, 'English': 81}]]], [Branch 2, [[11, 'Katherine', {'Maths': 94, 'English': 93}], [12, 'Luv', {'Maths': 89, 'English': 90}]]]]]\n",
      "\n",
      "\n",
      "Year[2025, [[Branch 1, [[13, 'Mona', {'Maths': 87, 'English': 89}], [14, 'Nikitha', {'Maths': 84, 'English': 86}]]], [Branch 2, [[15, 'Keerthi', {'Maths': 92, 'English': 91}], [16, 'Praveen', {'Maths': 80, 'English': 83}]]]]]\n",
      "\n",
      "\n"
     ]
    }
   ],
   "source": [
    "class Student:\n",
    "    def __init__(self, roll_number, name, marks):\n",
    "        self.roll_number = roll_number\n",
    "        self.name = name\n",
    "        self.marks = marks\n",
    "\n",
    "    def __repr__(self):\n",
    "        return f\"[{self.roll_number}, '{self.name}', {self.marks}]\"\n",
    "\n",
    "\n",
    "\n",
    "class Branch:\n",
    "    def __init__(self, name):\n",
    "        self.name = name\n",
    "        self.students = []\n",
    "\n",
    "    def add_student(self, student):\n",
    "        self.students.append(student)\n",
    "\n",
    "    def __repr__(self):\n",
    "        return f\"[{self.name}, {self.students}]\"\n",
    "\n",
    "\n",
    "class Year:\n",
    "    def __init__(self, year):\n",
    "        self.year = year\n",
    "        self.branches = []\n",
    "    def add_branch(self, branch):\n",
    "        self.branches.append(branch)\n",
    "\n",
    "    def __repr__(self):\n",
    "        return f\"Year[{self.year}, {self.branches}]\"\n",
    "\n",
    "\n",
    "database = []\n",
    "\n",
    "# Create years\n",
    "Year2022 = Year(2022)\n",
    "Year2023 = Year(2023)\n",
    "Year2024 = Year(2024)\n",
    "Year2025 = Year(2025)\n",
    "\n",
    "branch1_2022 = Branch(\"Branch 1\")\n",
    "branch2_2022 = Branch(\"Branch 2\")\n",
    "branch1_2023 = Branch(\"Branch 1\")\n",
    "branch2_2023 = Branch(\"Branch 2\")\n",
    "branch1_2024 = Branch(\"Branch 1\")\n",
    "branch2_2024 = Branch(\"Branch 2\")\n",
    "branch1_2025 = Branch(\"Branch 1\")\n",
    "branch2_2025 = Branch(\"Branch 2\")\n",
    "\n",
    "Year2022.add_branch(branch1_2022)\n",
    "Year2022.add_branch(branch2_2022)     \n",
    "Year2023.add_branch(branch1_2023)\n",
    "Year2023.add_branch(branch2_2023)\n",
    "Year2024.add_branch(branch1_2024)\n",
    "Year2024.add_branch(branch2_2024)\n",
    "Year2025.add_branch(branch1_2025)\n",
    "Year2025.add_branch(branch2_2025)\n",
    "\n",
    "Students2022_branch1 = [\n",
    "    Student(1, \"Jeev\", {\"Maths\": 90, \"English\": 80}),\n",
    "    Student(2, \"Dave\", {\"Maths\": 95, \"English\": 85})\n",
    "]\n",
    "Students2022_branch2= [\n",
    "    Student(3, \"Diya\", {\"Maths\": 98, \"English\": 88}),\n",
    "    Student(4, \"Harshith\", {\"Maths\": 72, \"English\": 84})\n",
    "]\n",
    "\n",
    "Students2023_branch1 = [\n",
    "    Student(5, \"Priya\", {\"Maths\": 88, \"English\": 92}),\n",
    "    Student(6, \"Fanaa\", {\"Maths\": 76, \"English\": 84})\n",
    "]\n",
    "Students2023_branch2  = [\n",
    "    Student(7, \"Gina\", {\"Maths\":91 , \"English\": 87}),\n",
    "    Student(8, \"Hanna\", {\"Maths\": 79, \"English\": 85})\n",
    "]\n",
    "\n",
    "Students2024_branch1  = [\n",
    "    Student(9, \"Indhu\", {\"Maths\": 82, \"English\": 88}),\n",
    "    Student(10, \"Janvi\", {\"Maths\": 77, \"English\": 81})\n",
    "]\n",
    "Students2024_branch2  = [\n",
    "    Student(11, \"Katherine\", {\"Maths\": 94, \"English\": 93}),\n",
    "    Student(12, \"Luv\", {\"Maths\": 89, \"English\": 90})\n",
    "]\n",
    "\n",
    "Students2025_branch1  = [\n",
    "    Student(13, \"Mona\", {\"Maths\": 87, \"English\": 89}),\n",
    "    Student(14, \"Nikitha\", {\"Maths\": 84, \"English\": 86})\n",
    "]\n",
    "Students2025_branch2 = [\n",
    "    Student(15, \"Keerthi\", {\"Maths\": 92, \"English\": 91}),\n",
    "    Student(16, \"Praveen\", {\"Maths\": 80, \"English\": 83})\n",
    "]\n",
    "\n",
    "for student in Students2022_branch1 :\n",
    "    branch1_2022.add_student(student)\n",
    "for student in Students2022_branch2:\n",
    "    branch2_2022.add_student(student)\n",
    "\n",
    "for student in Students2023_branch1 :\n",
    "    branch1_2023.add_student(student)\n",
    "for student in Students2023_branch2 :\n",
    "    branch2_2023.add_student(student)\n",
    "\n",
    "for student in Students2024_branch1 :\n",
    "    branch1_2024.add_student(student)\n",
    "for student in Students2024_branch2 :\n",
    "    branch2_2024.add_student(student)\n",
    "\n",
    "for student in Students2025_branch1 :\n",
    "    branch1_2025.add_student(student)\n",
    "for student in Students2025_branch2 :\n",
    "    branch2_2025.add_student(student)\n",
    "\n",
    "database.append(Year2022)\n",
    "database.append(Year2023)\n",
    "database.append(Year2024)\n",
    "database.append(Year2025)\n",
    "\n",
    "for Year in database:\n",
    "    print(Year)\n",
    "    print(\"\\n\")\n",
    "\n"
   ]
  },
  {
   "cell_type": "markdown",
   "id": "cf776b04-86c1-4edd-87c6-42e7deb5a061",
   "metadata": {},
   "source": [
    "### Using matplotlib plot the following functions on the domain: x = 0.5 to 100.0 in steps of 0.5.\n",
    "##### 1. y=x\n",
    "##### 2. y = x**2\n",
    "##### 3. y = (x**3)/100\n",
    "##### 4. y = (sin(x))/x\n",
    "##### 5. y = logx\n",
    "##### 6. y = e**x\n",
    "   "
   ]
  },
  {
   "cell_type": "code",
   "execution_count": 17,
   "id": "64021702-a219-4fc0-be29-fed0115f8728",
   "metadata": {},
   "outputs": [
    {
     "data": {
      "image/png": "[encoded data removed]",
      "text/plain": [
       "<Figure size 800x600 with 1 Axes>"
      ]
     },
     "metadata": {},
     "output_type": "display_data"
    }
   ],
   "source": [
    "#y=x\n",
    "x = np.arange(0.5, 100.5, 0.5)\n",
    "y1 = x\n",
    "plt.figure(figsize=(8, 6))\n",
    "plt.plot(x, y1, label='y = x', color='blue')\n",
    "plt.xlabel('x')\n",
    "plt.ylabel('y')\n",
    "plt.title('Plot of y = x')\n",
    "plt.legend()\n",
    "plt.grid(True)\n",
    "plt.show()\n",
    "\n"
   ]
  },
  {
   "cell_type": "code",
   "execution_count": 18,
   "id": "ab765758-5cb4-423b-9e74-2998cc9ba573",
   "metadata": {},
   "outputs": [
    {
     "data": {
      "image/png": "[encoded data removed]",
      "text/plain": [
       "<Figure size 800x600 with 1 Axes>"
      ]
     },
     "metadata": {},
     "output_type": "display_data"
    }
   ],
   "source": [
    "#y=x**2\n",
    "x = np.arange(0.5, 100.5, 0.5)\n",
    "y2 = x**2\n",
    "plt.figure(figsize=(8, 6))\n",
    "plt.plot(x, y2, label='y = x', color='blue')\n",
    "plt.xlabel('x')\n",
    "plt.ylabel('y')\n",
    "plt.title('Plot of y = x**2')\n",
    "plt.legend()\n",
    "plt.grid(True)\n",
    "plt.show()\n"
   ]
  },
  {
   "cell_type": "code",
   "execution_count": 19,
   "id": "71d22b6a-db4a-4174-9a70-397296dcf9d4",
   "metadata": {},
   "outputs": [
    {
     "data": {
      "image/png": "[encoded data removed]",
      "text/plain": [
       "<Figure size 800x600 with 1 Axes>"
      ]
     },
     "metadata": {},
     "output_type": "display_data"
    }
   ],
   "source": [
    "#y=(x**3)/100\n",
    "x = np.arange(0.5, 100.5, 0.5)\n",
    "y3 = (x**3)/100\n",
    "plt.figure(figsize=(8, 6))\n",
    "plt.plot(x, y3, label='y = x', color='blue')\n",
    "plt.xlabel('x')\n",
    "plt.ylabel('y')\n",
    "plt.title('Plot of y = (x**3)/100')\n",
    "plt.legend()\n",
    "plt.grid(True)\n",
    "plt.show()"
   ]
  },
  {
   "cell_type": "code",
   "execution_count": 20,
   "id": "94c82954-fded-40aa-9a39-53201d322540",
   "metadata": {},
   "outputs": [
    {
     "data": {
      "image/png": "[encoded data removed]",
      "text/plain": [
       "<Figure size 800x600 with 1 Axes>"
      ]
     },
     "metadata": {},
     "output_type": "display_data"
    }
   ],
   "source": [
    "#y=(sin(x))/x\n",
    "x = np.arange(0.5, 100.5, 0.5)\n",
    "y4 = (np.sin(x))/x\n",
    "plt.figure(figsize=(8, 6))\n",
    "plt.plot(x, y4, label='y = x', color='blue')\n",
    "plt.xlabel('x')\n",
    "plt.ylabel('y')\n",
    "plt.title('Plot of y = (sin(x))/x')\n",
    "plt.legend()\n",
    "plt.grid(True)\n",
    "plt.show()"
   ]
  },
  {
   "cell_type": "code",
   "execution_count": 21,
   "id": "922b2a10-528d-4fff-a1e8-063a02ca18e1",
   "metadata": {},
   "outputs": [
    {
     "data": {
      "image/png": "[encoded data removed]",
      "text/plain": [
       "<Figure size 800x600 with 1 Axes>"
      ]
     },
     "metadata": {},
     "output_type": "display_data"
    }
   ],
   "source": [
    "#y=logx\n",
    "x = np.arange(0.5, 100.5, 0.5)\n",
    "y5 = np.log(x)\n",
    "plt.figure(figsize=(8, 6))\n",
    "plt.plot(x, y5, label='y = x', color='blue')\n",
    "plt.xlabel('x')\n",
    "plt.ylabel('y')\n",
    "plt.title('Plot of y = logx')\n",
    "plt.legend()\n",
    "plt.grid(True)\n",
    "plt.show()"
   ]
  },
  {
   "cell_type": "code",
   "execution_count": 22,
   "id": "0795b1ee-5190-441b-bb72-2fd020af41da",
   "metadata": {},
   "outputs": [
    {
     "data": {
      "image/png": "[encoded data removed]",
      "text/plain": [
       "<Figure size 800x600 with 1 Axes>"
      ]
     },
     "metadata": {},
     "output_type": "display_data"
    }
   ],
   "source": [
    "#y=e**x\n",
    "x = np.arange(0.5, 100.5, 0.5)\n",
    "y6 = np.exp(x)\n",
    "plt.figure(figsize=(8, 6))\n",
    "plt.plot(x, y6, label='y = x', color='blue')\n",
    "plt.xlabel('x')\n",
    "plt.ylabel('y')\n",
    "plt.title('Plot of y = e**2')\n",
    "plt.legend()\n",
    "plt.grid(True)\n",
    "plt.show()"
   ]
  },
  {
   "cell_type": "markdown",
   "id": "ca92ccf8-cf8c-4d3b-a367-8346dfbce1f3",
   "metadata": {},
   "source": [
    "### Using numpy generate a matrix of size 20X5 containing random numbers drawn uniformly from the range of 1 to 2. Using Pandas create a dataframe out of this matrix. Name the columns of the dataframe as “a”, “b”, “c”, “d”, “e”. Find the column with the highest standard deviation. Find the row with the lowest mean."
   ]
  },
  {
   "cell_type": "code",
   "execution_count": 28,
   "id": "14844487-12b7-4b89-a29c-953af55d93e3",
   "metadata": {},
   "outputs": [
    {
     "name": "stdout",
     "output_type": "stream",
     "text": [
      "           a         b         c         d         e\n",
      "0   1.258087  1.241042  1.156074  1.872251  1.463687\n",
      "1   1.024570  1.555526  1.945359  1.266145  1.062772\n",
      "2   1.580004  1.531264  1.221480  1.770352  1.758563\n",
      "3   1.635643  1.940129  1.940583  1.547562  1.471227\n",
      "4   1.180210  1.193156  1.508102  1.213652  1.531038\n",
      "5   1.180789  1.737582  1.980019  1.595686  1.941366\n",
      "6   1.235798  1.896041  1.147351  1.304618  1.052048\n",
      "7   1.618230  1.527726  1.790698  1.220413  1.838976\n",
      "8   1.670562  1.968776  1.679607  1.954261  1.251882\n",
      "9   1.543360  1.205420  1.992478  1.646909  1.040089\n",
      "10  1.468976  1.171768  1.664726  1.606527  1.440418\n",
      "11  1.034477  1.185858  1.368980  1.568728  1.632597\n",
      "12  1.851831  1.320985  1.126176  1.332429  1.894354\n",
      "13  1.791279  1.380621  1.401895  1.197375  1.286099\n",
      "14  1.328813  1.375017  1.307443  1.928118  1.137937\n",
      "15  1.865267  1.409582  1.124273  1.425751  1.849190\n",
      "16  1.784891  1.402757  1.073902  1.648188  1.153773\n",
      "17  1.196989  1.793975  1.350012  1.097733  1.364181\n",
      "18  1.850616  1.439422  1.542426  1.517990  1.569322\n",
      "19  1.740308  1.441965  1.711565  1.463929  1.247231\n",
      "The column with the highest standard deviation is 'c'.\n",
      "The required row number with lowest mean is 4.\n",
      "The row with the lowest mean is:\n",
      " a    1.180210\n",
      "b    1.193156\n",
      "c    1.508102\n",
      "d    1.213652\n",
      "e    1.531038\n",
      "Name: 4, dtype: float64.\n"
     ]
    }
   ],
   "source": [
    "matrix1 = np.random.uniform(1, 2, size=(20, 5))\n",
    "dataframe = pd.DataFrame(matrix1, columns = ['a', 'b', 'c', 'd', 'e'])\n",
    "print(dataframe)\n",
    "high_std_col = dataframe.std().idxmax()\n",
    "print(f\"The column with the highest standard deviation is '{high_std_col}'.\")\n",
    "\n",
    "low_mean_row = dataframe.mean(axis=1).idxmin()\n",
    "print(f'The required row number with lowest mean is {low_mean_row}.')\n",
    "print(f\"The row with the lowest mean is:\\n {dataframe.iloc[low_mean_row]}.\")"
   ]
  },
  {
   "cell_type": "markdown",
   "id": "a63239bc-7594-4721-a697-67bd993b32af",
   "metadata": {},
   "source": [
    "### Add a new coumn to the dataframe called “f” which is the sum of the columns “a”, “b”, “c”, “d”, “e”. Create another column called “g”. The value in the column “g” should be “LT8” if the value in the column “f” is less than 8 and “GT8” otherwise. Find the number of rows in the dataframe where the value in the column “g” is “LT8”. Find the standard deviation of the column “f” for the rows where the value in the column “g” is “LT8” and “GT8” respectively."
   ]
  },
  {
   "cell_type": "code",
   "execution_count": 29,
   "id": "03921ad1-c732-4bba-ad39-681c612f6985",
   "metadata": {},
   "outputs": [
    {
     "name": "stdout",
     "output_type": "stream",
     "text": [
      "           a         b         c         d         e         f    g\n",
      "0   1.258087  1.241042  1.156074  1.872251  1.463687  6.991142  LT8\n",
      "1   1.024570  1.555526  1.945359  1.266145  1.062772  6.854371  LT8\n",
      "2   1.580004  1.531264  1.221480  1.770352  1.758563  7.861663  LT8\n",
      "3   1.635643  1.940129  1.940583  1.547562  1.471227  8.535143  GT8\n",
      "4   1.180210  1.193156  1.508102  1.213652  1.531038  6.626158  LT8\n",
      "5   1.180789  1.737582  1.980019  1.595686  1.941366  8.435442  GT8\n",
      "6   1.235798  1.896041  1.147351  1.304618  1.052048  6.635857  LT8\n",
      "7   1.618230  1.527726  1.790698  1.220413  1.838976  7.996044  LT8\n",
      "8   1.670562  1.968776  1.679607  1.954261  1.251882  8.525088  GT8\n",
      "9   1.543360  1.205420  1.992478  1.646909  1.040089  7.428256  LT8\n",
      "10  1.468976  1.171768  1.664726  1.606527  1.440418  7.352415  LT8\n",
      "11  1.034477  1.185858  1.368980  1.568728  1.632597  6.790638  LT8\n",
      "12  1.851831  1.320985  1.126176  1.332429  1.894354  7.525774  LT8\n",
      "13  1.791279  1.380621  1.401895  1.197375  1.286099  7.057268  LT8\n",
      "14  1.328813  1.375017  1.307443  1.928118  1.137937  7.077328  LT8\n",
      "15  1.865267  1.409582  1.124273  1.425751  1.849190  7.674062  LT8\n",
      "16  1.784891  1.402757  1.073902  1.648188  1.153773  7.063510  LT8\n",
      "17  1.196989  1.793975  1.350012  1.097733  1.364181  6.802889  LT8\n",
      "18  1.850616  1.439422  1.542426  1.517990  1.569322  7.919775  LT8\n",
      "19  1.740308  1.441965  1.711565  1.463929  1.247231  7.604999  LT8\n",
      "Number of rows with 'LT8': 17\n",
      "Standard deviation of 'f' for 'LT8': 0.45456120069349654\n",
      "Standard deviation of 'f' for 'GT8': 0.05489078232477281\n"
     ]
    }
   ],
   "source": [
    "dataframe[\"f\"] = dataframe[[\"a\" , \"b\" ,\"c\" ,\"d\" ,\"e\"]].sum(axis=1)\n",
    "dataframe[\"g\"] = np.where(dataframe['f'] < 8, 'LT8', 'GT8')\n",
    "lt8_count = dataframe[dataframe['g'] == 'LT8'].shape[0]\n",
    "lt8_std = dataframe[dataframe['g'] == \"LT8\"][\"f\"].std()\n",
    "gt8_std = dataframe[dataframe['g'] == \"GT8\"][\"f\"].std()\n",
    "\n",
    "print(dataframe)\n",
    "print(f\"Number of rows with 'LT8': {lt8_count}\")\n",
    "print(f\"Standard deviation of 'f' for 'LT8': {lt8_std}\")\n",
    "print(f\"Standard deviation of 'f' for 'GT8': {gt8_std}\")"
   ]
  },
  {
   "cell_type": "markdown",
   "id": "2177835d-eeef-408b-996f-5135370bb44e",
   "metadata": {},
   "source": [
    "### Write a small piece of code to explain broadcasting in numpy.\n"
   ]
  },
  {
   "cell_type": "code",
   "execution_count": 30,
   "id": "3af0ba62-7726-492d-a873-597da8d046ff",
   "metadata": {},
   "outputs": [
    {
     "name": "stdout",
     "output_type": "stream",
     "text": [
      "[[11 12 13]\n",
      " [12 13 14]\n",
      " [13 14 15]]\n"
     ]
    }
   ],
   "source": [
    "#Broadcasting in NumPy is used perform arithmetic operations(element-wise operations)\n",
    "#on arrays of different shapes (element-wise operations). \n",
    "#When pefmorming arithmetic operations on arrays of different shapes,\n",
    "#NumPy \"broadcasts\" the smaller array across the larger array \n",
    "#so that they have compatible shapes.\n",
    "\n",
    "arr1 = np.array([7,8,9]) # shape (3,)\n",
    "arr2 = np.array([[4],[5],[6]]) # shape (3,1)\n",
    "\n",
    "\n",
    "#no. of dimensions of arr2 are morethan arr1. So arr2 is larger\n",
    "#the smaller array is padded with ones on left side to match dimensions of arr2\n",
    "# the size of arr1 becomes (1,3)\n",
    "#now both arr1 and arr2 can broadcast to (3,3)\n",
    "\n",
    "#BROADCASTING\n",
    "#In each dimensions either sizes must match or one of them is 1.\n",
    "# dimension1: arr1: 1, arr2: 3 (broadcast to max i.e. 3)\n",
    "# dimension2: arr1: 3, arr2: 1 (broadcast to max i.e. 3)\n",
    "# resulting shape of arr1, arr2 after reshaping is (3,3)\n",
    "# now element wise operations can be performed\n",
    "\n",
    "# [[7, 8, 9],\n",
    "#  [7, 8, 9],\n",
    "#  [7, 8, 9]]   # This is `a` after broadcasting\n",
    "\n",
    "# [[4, 4, 4],\n",
    "#  [5, 5, 5],\n",
    "#  [6, 6, 6]]   # This is `b` after broadcasting\n",
    "\n",
    "add = arr1+ arr2\n",
    "print(add)"
   ]
  },
  {
   "cell_type": "markdown",
   "id": "1f0af330-94ba-4541-88b3-7da6fb43b4b7",
   "metadata": {},
   "source": [
    "### Write a function to compute the argmin of a numpy array. The function should take a numpy array as input and return the index of the minimum element. You can use the np.argmin function to verify your solution."
   ]
  },
  {
   "cell_type": "code",
   "execution_count": 31,
   "id": "da8e251e-c57d-4451-9bf5-74eb2ee28657",
   "metadata": {},
   "outputs": [
    {
     "name": "stdout",
     "output_type": "stream",
     "text": [
      "Custom function index: 15\n",
      "NumPy's argmin index: 15\n"
     ]
    }
   ],
   "source": [
    "def argminimum(arr):\n",
    "    n = arr.size\n",
    "    if n == 0:\n",
    "        raise ValueError(\"Empty Array\")\n",
    "        \n",
    "    min_i = 0\n",
    "    minimum = arr[0]\n",
    "    \n",
    "    for i in range(1, n):\n",
    "        if arr[i] < minimum:\n",
    "            minimum = arr[i]\n",
    "            min_i = i\n",
    "    \n",
    "    return min_i\n",
    "\n",
    "arr1 = np.array([43, 20, 7, 11, 57, 46, 89, 230, 87, 65, 172, 340, 372, 62, 12, 1, 34])\n",
    "argminimum_i = argminimum(arr1)\n",
    "np_i = np.argmin(arr1)\n",
    "\n",
    "print(f\"Custom function index: {argminimum_i}\")\n",
    "print(f\"NumPy's argmin index: {np_i}\")\n"
   ]
  },
  {
   "cell_type": "code",
   "execution_count": null,
   "id": "c1751c43-ce97-4bf4-8963-30e4da058a81",
   "metadata": {},
   "outputs": [],
   "source": []
  }
 ],
 "metadata": {
  "kernelspec": {
   "display_name": "Python 3 (ipykernel)",
   "language": "python",
   "name": "python3"
  },
  "language_info": {
   "codemirror_mode": {
    "name": "ipython",
    "version": 3
   },
   "file_extension": ".py",
   "mimetype": "text/x-python",
   "name": "python",
   "nbconvert_exporter": "python",
   "pygments_lexer": "ipython3",
   "version": "3.11.6"
  }
 },
 "nbformat": 4,
 "nbformat_minor": 5
}
